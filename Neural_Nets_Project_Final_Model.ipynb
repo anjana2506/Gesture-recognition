{
 "cells": [
  {
   "cell_type": "markdown",
   "metadata": {},
   "source": [
    "# Gesture Recognition\n",
    "In this group project, you are going to build a 3D Conv model that will be able to predict the 5 gestures correctly. Please import the following libraries to get started."
   ]
  },
  {
   "cell_type": "code",
   "execution_count": 1,
   "metadata": {},
   "outputs": [],
   "source": [
    "import numpy as np\n",
    "import os\n",
    "from scipy.misc import imread, imresize\n",
    "import datetime\n",
    "import os"
   ]
  },
  {
   "cell_type": "code",
   "execution_count": 2,
   "metadata": {},
   "outputs": [],
   "source": [
    "import matplotlib.pyplot as plt"
   ]
  },
  {
   "cell_type": "markdown",
   "metadata": {},
   "source": [
    "We set the random seed so that the results don't vary drastically."
   ]
  },
  {
   "cell_type": "code",
   "execution_count": 3,
   "metadata": {},
   "outputs": [
    {
     "name": "stderr",
     "output_type": "stream",
     "text": [
      "Using TensorFlow backend.\n"
     ]
    }
   ],
   "source": [
    "np.random.seed(30)\n",
    "import random as rn\n",
    "rn.seed(30)\n",
    "from keras import backend as K\n",
    "import tensorflow as tf\n",
    "tf.set_random_seed(30)"
   ]
  },
  {
   "cell_type": "markdown",
   "metadata": {},
   "source": [
    "In this block, you read the folder names for training and validation. You also set the `batch_size` here. Note that you set the batch size in such a way that you are able to use the GPU in full capacity. You keep increasing the batch size until the machine throws an error."
   ]
  },
  {
   "cell_type": "code",
   "execution_count": 4,
   "metadata": {},
   "outputs": [],
   "source": [
    "train_doc = np.random.permutation(open('./Project_data/train.csv').readlines())\n",
    "val_doc = np.random.permutation(open('./Project_data/val.csv').readlines())\n",
    "#batch_size = 10"
   ]
  },
  {
   "cell_type": "code",
   "execution_count": 5,
   "metadata": {},
   "outputs": [],
   "source": [
    "from keras.models import Sequential, Model\n",
    "from keras.layers import Dense, GRU, Flatten, TimeDistributed, Flatten, BatchNormalization, Activation\n",
    "from keras.layers.convolutional import Conv3D, MaxPooling3D, Conv2D, MaxPooling2D\n",
    "from keras.layers.recurrent import LSTM\n",
    "from keras.callbacks import ModelCheckpoint, ReduceLROnPlateau\n",
    "from keras import optimizers\n",
    "from keras.layers import Dropout"
   ]
  },
  {
   "cell_type": "markdown",
   "metadata": {},
   "source": [
    "### Plotting"
   ]
  },
  {
   "cell_type": "code",
   "execution_count": 6,
   "metadata": {},
   "outputs": [],
   "source": [
    "def plot(history):\n",
    "    fig, axes = plt.subplots(nrows=1, ncols=2, figsize=(15,4))\n",
    "    axes[0].plot(history.history['loss'])   \n",
    "    axes[0].plot(history.history['val_loss'])\n",
    "    axes[0].legend(['loss','val_loss'])\n",
    "\n",
    "    axes[1].plot(history.history['categorical_accuracy'])   \n",
    "    axes[1].plot(history.history['val_categorical_accuracy'])\n",
    "    axes[1].legend(['categorical_accuracy','val_categorical_accuracy'])"
   ]
  },
  {
   "cell_type": "markdown",
   "metadata": {},
   "source": [
    "## Generator\n",
    "This is one of the most important part of the code. The overall structure of the generator has been given. In the generator, you are going to preprocess the images as you have images of 2 different dimensions as well as create a batch of video frames. You have to experiment with `img_idx`, `y`,`z` and normalization such that you get high accuracy."
   ]
  },
  {
   "cell_type": "code",
   "execution_count": 7,
   "metadata": {},
   "outputs": [],
   "source": [
    "def generator(source_path, folder_list, batch_size):\n",
    "    print( 'Source path = ', source_path, '; batch size =', batch_size)\n",
    "    img_idx = [1,2,3,4,5,6,7,8,9,10,11,12,13,14,15,16,17,18,19,20,21,22,23,24,25,26,27,28,29] #create a list of image numbers you want to use for a particular video\n",
    "    while True:\n",
    "        t = np.random.permutation(folder_list)\n",
    "        num_batches = len(folder_list)//batch_size # calculate the number of batches\n",
    "        for batch in range(num_batches): # we iterate over the number of batches\n",
    "            batch_data = np.zeros((batch_size,x,y,z,3)) # x is the number of images you use for each video, (y,z) is the final size of the input images and 3 is the number of channels RGB\n",
    "            batch_labels = np.zeros((batch_size,5)) # batch_labels is the one hot representation of the output\n",
    "            for folder in range(batch_size): # iterate over the batch_size\n",
    "                imgs = os.listdir(source_path+'/'+ t[folder + (batch*batch_size)].split(';')[0]) # read all the images in the folder\n",
    "                for idx,item in enumerate(img_idx): #  Iterate iver the frames/images of a folder to read them in\n",
    "                    image = imread(source_path+'/'+ t[folder + (batch*batch_size)].strip().split(';')[0]+'/'+imgs[item]).astype(np.float32)\n",
    "                    \n",
    "                    #crop the images and resize them. Note that the images are of 2 different shape \n",
    "                    #and the conv3D will throw error if the inputs in a batch have different shapes\n",
    "                    temp = imresize(image,(y,z))\n",
    "                    temp = temp/255  #Normalize data\n",
    "                    \n",
    "                    batch_data[folder,idx,:,:,0] = (temp[:,:,0]) #normalise and feed in the image\n",
    "                    batch_data[folder,idx,:,:,1] = (temp[:,:,1]) #normalise and feed in the image\n",
    "                    batch_data[folder,idx,:,:,2] = (temp[:,:,2]) #normalise and feed in the image\n",
    "                    \n",
    "                                       \n",
    "                batch_labels[folder, int(t[folder + (batch*batch_size)].strip().split(';')[2])] = 1\n",
    "            yield batch_data, batch_labels #you yield the batch_data and the batch_labels, remember what does yield do\n",
    "\n",
    "        \n",
    "        # write the code for the remaining data points which are left after full batches\n",
    "        if (len(folder_list) != batch_size*num_batches):\n",
    "            print(\"Batch: \",num_batches+1,\"Index:\", batch_size)\n",
    "            batch_size = len(folder_list) - (batch_size*num_batches)\n",
    "            batch_data = np.zeros((batch_size,x,y,z,3)) # x is the number of images you use for each video, (y,z) is the final size of the input images and 3 is the number of channels RGB\n",
    "            batch_labels = np.zeros((batch_size,5)) # batch_labels is the one hot representation of the output\n",
    "            for folder in range(batch_size): # iterate over the batch_size\n",
    "                imgs = os.listdir(source_path+'/'+ t[folder + (batch*batch_size)].split(';')[0]) # read all the images in the folder\n",
    "                for idx,item in enumerate(img_idx): #  Iterate iver the frames/images of a folder to read them in\n",
    "                    image = imread(source_path+'/'+ t[folder + (batch*batch_size)].strip().split(';')[0]+'/'+imgs[item]).astype(np.float32)\n",
    "                    \n",
    "                    #crop the images and resize them. Note that the images are of 2 different shape \n",
    "                    #and the conv3D will throw error if the inputs in a batch have different shapes\n",
    "                    temp = imresize(image,(y,z))\n",
    "                    temp = temp/255 #Normalize data\n",
    "                    \n",
    "                    batch_data[folder,idx,:,:,0] = (temp[:,:,0])\n",
    "                    batch_data[folder,idx,:,:,1] = (temp[:,:,1])\n",
    "                    batch_data[folder,idx,:,:,2] = (temp[:,:,2])\n",
    "                   \n",
    "                batch_labels[folder, int(t[folder + (batch*batch_size)].strip().split(';')[2])] = 1\n",
    "            yield batch_data, batch_labels\n"
   ]
  },
  {
   "cell_type": "code",
   "execution_count": 8,
   "metadata": {},
   "outputs": [],
   "source": [
    "def generator_1(source_path, folder_list, batch_size):\n",
    "    print( 'Source path = ', source_path, '; batch size =', batch_size)\n",
    "    img_idx = [5,8,11,14,17,20,23,26,27,28,29] #create a list of image numbers you want to use for a particular video\n",
    "    while True:\n",
    "        t = np.random.permutation(folder_list)\n",
    "        num_batches = len(folder_list)//batch_size # calculate the number of batches\n",
    "        for batch in range(num_batches): # we iterate over the number of batches\n",
    "            batch_data = np.zeros((batch_size,x,y,z,3)) # x is the number of images you use for each video, (y,z) is the final size of the input images and 3 is the number of channels RGB\n",
    "            batch_labels = np.zeros((batch_size,5)) # batch_labels is the one hot representation of the output\n",
    "            for folder in range(batch_size): # iterate over the batch_size\n",
    "                imgs = os.listdir(source_path+'/'+ t[folder + (batch*batch_size)].split(';')[0]) # read all the images in the folder\n",
    "                for idx,item in enumerate(img_idx): #  Iterate iver the frames/images of a folder to read them in\n",
    "                    image = imread(source_path+'/'+ t[folder + (batch*batch_size)].strip().split(';')[0]+'/'+imgs[item]).astype(np.float32)\n",
    "                    \n",
    "                    #crop the images and resize them. Note that the images are of 2 different shape \n",
    "                    #and the conv3D will throw error if the inputs in a batch have different shapes\n",
    "                    temp = imresize(image,(y,z))\n",
    "                    temp = temp/255  #Normalize data\n",
    "                    \n",
    "                    batch_data[folder,idx,:,:,0] = (temp[:,:,0]) #normalise and feed in the image\n",
    "                    batch_data[folder,idx,:,:,1] = (temp[:,:,1]) #normalise and feed in the image\n",
    "                    batch_data[folder,idx,:,:,2] = (temp[:,:,2]) #normalise and feed in the image\n",
    "                    \n",
    "                                       \n",
    "                batch_labels[folder, int(t[folder + (batch*batch_size)].strip().split(';')[2])] = 1\n",
    "            yield batch_data, batch_labels #you yield the batch_data and the batch_labels, remember what does yield do\n",
    "\n",
    "        \n",
    "        # write the code for the remaining data points which are left after full batches\n",
    "        if (len(folder_list) != batch_size*num_batches):\n",
    "            print(\"Batch: \",num_batches+1,\"Index:\", batch_size)\n",
    "            batch_size = len(folder_list) - (batch_size*num_batches)\n",
    "            batch_data = np.zeros((batch_size,x,y,z,3)) # x is the number of images you use for each video, (y,z) is the final size of the input images and 3 is the number of channels RGB\n",
    "            batch_labels = np.zeros((batch_size,5)) # batch_labels is the one hot representation of the output\n",
    "            for folder in range(batch_size): # iterate over the batch_size\n",
    "                imgs = os.listdir(source_path+'/'+ t[folder + (batch*batch_size)].split(';')[0]) # read all the images in the folder\n",
    "                for idx,item in enumerate(img_idx): #  Iterate iver the frames/images of a folder to read them in\n",
    "                    image = imread(source_path+'/'+ t[folder + (batch*batch_size)].strip().split(';')[0]+'/'+imgs[item]).astype(np.float32)\n",
    "                    \n",
    "                    #crop the images and resize them. Note that the images are of 2 different shape \n",
    "                    #and the conv3D will throw error if the inputs in a batch have different shapes\n",
    "                    temp = imresize(image,(y,z))\n",
    "                    temp = temp/255 #Normalize data\n",
    "                    \n",
    "                    batch_data[folder,idx,:,:,0] = (temp[:,:,0])\n",
    "                    batch_data[folder,idx,:,:,1] = (temp[:,:,1])\n",
    "                    batch_data[folder,idx,:,:,2] = (temp[:,:,2])\n",
    "                   \n",
    "                batch_labels[folder, int(t[folder + (batch*batch_size)].strip().split(';')[2])] = 1\n",
    "            yield batch_data, batch_labels\n"
   ]
  },
  {
   "cell_type": "code",
   "execution_count": 9,
   "metadata": {},
   "outputs": [],
   "source": [
    "def generator_2(source_path, folder_list, batch_size):\n",
    "    print( 'Source path = ', source_path, '; batch size =', batch_size)\n",
    "    img_idx = np.round(np.linspace(0,29,16)).astype(int) #create a list of image numbers you want to use for a particular video\n",
    "    while True:\n",
    "        t = np.random.permutation(folder_list)\n",
    "        num_batches = len(folder_list)//batch_size # calculate the number of batches\n",
    "        for batch in range(num_batches): # we iterate over the number of batches\n",
    "            batch_data = np.zeros((batch_size,x,y,z,3)) # x is the number of images you use for each video, (y,z) is the final size of the input images and 3 is the number of channels RGB\n",
    "            batch_labels = np.zeros((batch_size,5)) # batch_labels is the one hot representation of the output\n",
    "            for folder in range(batch_size): # iterate over the batch_size\n",
    "                imgs = os.listdir(source_path+'/'+ t[folder + (batch*batch_size)].split(';')[0]) # read all the images in the folder\n",
    "                for idx,item in enumerate(img_idx): #  Iterate iver the frames/images of a folder to read them in\n",
    "                    image = imread(source_path+'/'+ t[folder + (batch*batch_size)].strip().split(';')[0]+'/'+imgs[item]).astype(np.float32)\n",
    "                    \n",
    "                    #crop the images and resize them. Note that the images are of 2 different shape \n",
    "                    #and the conv3D will throw error if the inputs in a batch have different shapes\n",
    "                    temp = imresize(image,(y,z))\n",
    "                    temp = temp/255  #Normalize data\n",
    "                    \n",
    "                    batch_data[folder,idx,:,:,0] = (temp[:,:,0]) #normalise and feed in the image\n",
    "                    batch_data[folder,idx,:,:,1] = (temp[:,:,1]) #normalise and feed in the image\n",
    "                    batch_data[folder,idx,:,:,2] = (temp[:,:,2]) #normalise and feed in the image\n",
    "                    \n",
    "                                       \n",
    "                batch_labels[folder, int(t[folder + (batch*batch_size)].strip().split(';')[2])] = 1\n",
    "            yield batch_data, batch_labels #you yield the batch_data and the batch_labels, remember what does yield do\n",
    "\n",
    "        \n",
    "        # write the code for the remaining data points which are left after full batches\n",
    "        if (len(folder_list) != batch_size*num_batches):\n",
    "            print(\"Batch: \",num_batches+1,\"Index:\", batch_size)\n",
    "            batch_size = len(folder_list) - (batch_size*num_batches)\n",
    "            batch_data = np.zeros((batch_size,x,y,z,3)) # x is the number of images you use for each video, (y,z) is the final size of the input images and 3 is the number of channels RGB\n",
    "            batch_labels = np.zeros((batch_size,5)) # batch_labels is the one hot representation of the output\n",
    "            for folder in range(batch_size): # iterate over the batch_size\n",
    "                imgs = os.listdir(source_path+'/'+ t[folder + (batch*batch_size)].split(';')[0]) # read all the images in the folder\n",
    "                for idx,item in enumerate(img_idx): #  Iterate iver the frames/images of a folder to read them in\n",
    "                    image = imread(source_path+'/'+ t[folder + (batch*batch_size)].strip().split(';')[0]+'/'+imgs[item]).astype(np.float32)\n",
    "                    \n",
    "                    #crop the images and resize them. Note that the images are of 2 different shape \n",
    "                    #and the conv3D will throw error if the inputs in a batch have different shapes\n",
    "                    temp = imresize(image,(y,z))\n",
    "                    temp = temp/255 #Normalize data\n",
    "                    \n",
    "                    batch_data[folder,idx,:,:,0] = (temp[:,:,0])\n",
    "                    batch_data[folder,idx,:,:,1] = (temp[:,:,1])\n",
    "                    batch_data[folder,idx,:,:,2] = (temp[:,:,2])\n",
    "                   \n",
    "                batch_labels[folder, int(t[folder + (batch*batch_size)].strip().split(';')[2])] = 1\n",
    "            yield batch_data, batch_labels"
   ]
  },
  {
   "cell_type": "markdown",
   "metadata": {},
   "source": [
    "Note here that a video is represented above in the generator as (number of images, height, width, number of channels). Take this into consideration while creating the model architecture."
   ]
  },
  {
   "cell_type": "code",
   "execution_count": 10,
   "metadata": {},
   "outputs": [
    {
     "name": "stdout",
     "output_type": "stream",
     "text": [
      "# training sequences = 663\n",
      "# validation sequences = 100\n",
      "# epochs = 30\n"
     ]
    }
   ],
   "source": [
    "curr_dt_time = datetime.datetime.now()\n",
    "train_path = './Project_data/train'               # Changed this line\n",
    "val_path = './Project_data/val' \n",
    "num_train_sequences = len(train_doc)\n",
    "print('# training sequences =', num_train_sequences)\n",
    "num_val_sequences = len(val_doc)\n",
    "print('# validation sequences =', num_val_sequences)\n",
    "num_epochs = 30 # choose the number of epochs\n",
    "print ('# epochs =', num_epochs)"
   ]
  },
  {
   "cell_type": "markdown",
   "metadata": {},
   "source": [
    "## Model\n",
    "Here you make the model using different functionalities that Keras provides. Remember to use `Conv3D` and `MaxPooling3D` and not `Conv2D` and `Maxpooling2D` for a 3D convolution model. You would want to use `TimeDistributed` while building a Conv2D + RNN model. Also remember that the last layer is the softmax. Design the network in such a way that the model is able to give good accuracy on the least number of parameters so that it can fit in the memory of the webcam."
   ]
  },
  {
   "cell_type": "markdown",
   "metadata": {},
   "source": [
    "### Model 6\n",
    "\n",
    "Changing input size i.e. image ids"
   ]
  },
  {
   "cell_type": "code",
   "execution_count": 11,
   "metadata": {},
   "outputs": [],
   "source": [
    "x=16\n",
    "y=120\n",
    "z=120\n",
    "batch_size=40\n",
    "num_epochs=30"
   ]
  },
  {
   "cell_type": "code",
   "execution_count": 12,
   "metadata": {},
   "outputs": [],
   "source": [
    "filtersize=(3,3,3)\n",
    "dense_neurons=256\n",
    "dropout=0.4\n",
    "\n",
    "model_6 = Sequential()\n",
    "model_6.add(Conv3D(32, filtersize, padding='same',input_shape=(x,y,z,3)))\n",
    "model_6.add(Activation('relu'))\n",
    "model_6.add(BatchNormalization())\n",
    "model_6.add(MaxPooling3D(pool_size=(2, 2, 2)))\n",
    "        \n",
    "\n",
    "model_6.add(Conv3D(64, filtersize, padding='same'))\n",
    "model_6.add(Activation('relu'))\n",
    "model_6.add(BatchNormalization())\n",
    "model_6.add(MaxPooling3D(pool_size=(2, 2, 2)))\n",
    "\n",
    "model_6.add(Conv3D(128, filtersize, padding='same'))\n",
    "model_6.add(Activation('relu'))\n",
    "model_6.add(BatchNormalization())      \n",
    "model_6.add(MaxPooling3D(pool_size=(2, 2, 2)))\n",
    "\n",
    "model_6.add(Flatten())\n",
    "model_6.add(Dense(dense_neurons,activation='relu'))\n",
    "model_6.add(BatchNormalization())\n",
    "model_6.add(Dropout(dropout))\n",
    "\n",
    "model_6.add(Dense(dense_neurons,activation='relu'))\n",
    "model_6.add(BatchNormalization())\n",
    "model_6.add(Dropout(dropout))\n",
    "\n",
    "\n",
    "model_6.add(Dense(5,activation='softmax'))\n"
   ]
  },
  {
   "cell_type": "code",
   "execution_count": 13,
   "metadata": {},
   "outputs": [
    {
     "name": "stdout",
     "output_type": "stream",
     "text": [
      "_________________________________________________________________\n",
      "Layer (type)                 Output Shape              Param #   \n",
      "=================================================================\n",
      "conv3d_1 (Conv3D)            (None, 16, 120, 120, 32)  2624      \n",
      "_________________________________________________________________\n",
      "activation_1 (Activation)    (None, 16, 120, 120, 32)  0         \n",
      "_________________________________________________________________\n",
      "batch_normalization_1 (Batch (None, 16, 120, 120, 32)  128       \n",
      "_________________________________________________________________\n",
      "max_pooling3d_1 (MaxPooling3 (None, 8, 60, 60, 32)     0         \n",
      "_________________________________________________________________\n",
      "conv3d_2 (Conv3D)            (None, 8, 60, 60, 64)     55360     \n",
      "_________________________________________________________________\n",
      "activation_2 (Activation)    (None, 8, 60, 60, 64)     0         \n",
      "_________________________________________________________________\n",
      "batch_normalization_2 (Batch (None, 8, 60, 60, 64)     256       \n",
      "_________________________________________________________________\n",
      "max_pooling3d_2 (MaxPooling3 (None, 4, 30, 30, 64)     0         \n",
      "_________________________________________________________________\n",
      "conv3d_3 (Conv3D)            (None, 4, 30, 30, 128)    221312    \n",
      "_________________________________________________________________\n",
      "activation_3 (Activation)    (None, 4, 30, 30, 128)    0         \n",
      "_________________________________________________________________\n",
      "batch_normalization_3 (Batch (None, 4, 30, 30, 128)    512       \n",
      "_________________________________________________________________\n",
      "max_pooling3d_3 (MaxPooling3 (None, 2, 15, 15, 128)    0         \n",
      "_________________________________________________________________\n",
      "flatten_1 (Flatten)          (None, 57600)             0         \n",
      "_________________________________________________________________\n",
      "dense_1 (Dense)              (None, 256)               14745856  \n",
      "_________________________________________________________________\n",
      "batch_normalization_4 (Batch (None, 256)               1024      \n",
      "_________________________________________________________________\n",
      "dropout_1 (Dropout)          (None, 256)               0         \n",
      "_________________________________________________________________\n",
      "dense_2 (Dense)              (None, 256)               65792     \n",
      "_________________________________________________________________\n",
      "batch_normalization_5 (Batch (None, 256)               1024      \n",
      "_________________________________________________________________\n",
      "dropout_2 (Dropout)          (None, 256)               0         \n",
      "_________________________________________________________________\n",
      "dense_3 (Dense)              (None, 5)                 1285      \n",
      "=================================================================\n",
      "Total params: 15,095,173\n",
      "Trainable params: 15,093,701\n",
      "Non-trainable params: 1,472\n",
      "_________________________________________________________________\n",
      "None\n"
     ]
    }
   ],
   "source": [
    "opt = optimizers.Adam(lr=0.001)\n",
    "#model.compile(optimizer= 'adam', loss='categorical_crossentropy', metrics=['categorical_accuracy'])\n",
    "model_6.compile(optimizer= opt,loss='categorical_crossentropy', metrics=['categorical_accuracy'])\n",
    "print(model_6.summary())"
   ]
  },
  {
   "cell_type": "code",
   "execution_count": 14,
   "metadata": {},
   "outputs": [],
   "source": [
    "train_generator = generator_2(train_path, train_doc, batch_size)\n",
    "val_generator = generator_2(val_path, val_doc, batch_size)"
   ]
  },
  {
   "cell_type": "code",
   "execution_count": 15,
   "metadata": {},
   "outputs": [],
   "source": [
    "model_name = 'model_init' + '_' + str(curr_dt_time).replace(' ','').replace(':','_') + '/'\n",
    "    \n",
    "if not os.path.exists(model_name):\n",
    "    os.mkdir(model_name)\n",
    "        \n",
    "filepath = model_name + 'model-{epoch:05d}-{loss:.5f}-{categorical_accuracy:.5f}-{val_loss:.5f}-{val_categorical_accuracy:.5f}.h5'\n",
    "\n",
    "checkpoint = ModelCheckpoint(filepath, monitor='val_loss', verbose=1, save_best_only=False, save_weights_only=False, mode='auto', period=1)\n",
    "\n",
    "LR =  ReduceLROnPlateau(monitor='val_loss', factor=0.2, verbose=1, patience=4)# write the REducelronplateau code here\n",
    "callbacks_list = [checkpoint, LR]"
   ]
  },
  {
   "cell_type": "code",
   "execution_count": 16,
   "metadata": {},
   "outputs": [],
   "source": [
    "if (num_train_sequences%batch_size) == 0:\n",
    "    steps_per_epoch = int(num_train_sequences/batch_size)\n",
    "else:\n",
    "    steps_per_epoch = (num_train_sequences//batch_size) + 1\n",
    "\n",
    "if (num_val_sequences%batch_size) == 0:\n",
    "    validation_steps = int(num_val_sequences/batch_size)\n",
    "else:\n",
    "    validation_steps = (num_val_sequences//batch_size) + 1"
   ]
  },
  {
   "cell_type": "code",
   "execution_count": 17,
   "metadata": {},
   "outputs": [
    {
     "name": "stdout",
     "output_type": "stream",
     "text": [
      "Source path =  ./Project_data/val ; batch size = 40\n",
      "Source path =  ./Project_data/train ; batch size = 40\n",
      "Epoch 1/30\n"
     ]
    },
    {
     "name": "stderr",
     "output_type": "stream",
     "text": [
      "/mnt/disks/user/anaconda3/lib/python3.6/site-packages/ipykernel_launcher.py:13: DeprecationWarning: `imread` is deprecated!\n",
      "`imread` is deprecated in SciPy 1.0.0, and will be removed in 1.2.0.\n",
      "Use ``imageio.imread`` instead.\n",
      "  del sys.path[0]\n",
      "/mnt/disks/user/anaconda3/lib/python3.6/site-packages/ipykernel_launcher.py:17: DeprecationWarning: `imresize` is deprecated!\n",
      "`imresize` is deprecated in SciPy 1.0.0, and will be removed in 1.2.0.\n",
      "Use ``skimage.transform.resize`` instead.\n"
     ]
    },
    {
     "name": "stdout",
     "output_type": "stream",
     "text": [
      "Batch:  3 Index: 40\n"
     ]
    },
    {
     "name": "stderr",
     "output_type": "stream",
     "text": [
      "/mnt/disks/user/anaconda3/lib/python3.6/site-packages/ipykernel_launcher.py:38: DeprecationWarning: `imread` is deprecated!\n",
      "`imread` is deprecated in SciPy 1.0.0, and will be removed in 1.2.0.\n",
      "Use ``imageio.imread`` instead.\n",
      "/mnt/disks/user/anaconda3/lib/python3.6/site-packages/ipykernel_launcher.py:42: DeprecationWarning: `imresize` is deprecated!\n",
      "`imresize` is deprecated in SciPy 1.0.0, and will be removed in 1.2.0.\n",
      "Use ``skimage.transform.resize`` instead.\n"
     ]
    },
    {
     "name": "stdout",
     "output_type": "stream",
     "text": [
      "15/17 [=========================>....] - ETA: 13s - loss: 1.6913 - categorical_accuracy: 0.4383Batch:  17 Index: 40\n",
      "17/17 [==============================] - 114s 7s/step - loss: 1.6582 - categorical_accuracy: 0.4398 - val_loss: 6.4584 - val_categorical_accuracy: 0.2600\n",
      "\n",
      "Epoch 00001: saving model to model_init_2020-12-2807_57_06.633544/model-00001-1.66800-0.43891-6.45842-0.26000.h5\n",
      "Epoch 2/30\n",
      "17/17 [==============================] - 23s 1s/step - loss: 1.0769 - categorical_accuracy: 0.5908 - val_loss: 2.3299 - val_categorical_accuracy: 0.4667\n",
      "\n",
      "Epoch 00002: saving model to model_init_2020-12-2807_57_06.633544/model-00002-1.07690-0.59079-2.32994-0.46667.h5\n",
      "Epoch 3/30\n",
      "10/17 [================>.............] - ETA: 11s - loss: 1.2329 - categorical_accuracy: 0.5652Batch:  29 Index: 23\n",
      "17/17 [==============================] - 26s 2s/step - loss: 1.1885 - categorical_accuracy: 0.5782 - val_loss: 3.8661 - val_categorical_accuracy: 0.4667\n",
      "\n",
      "Epoch 00003: saving model to model_init_2020-12-2807_57_06.633544/model-00003-1.19025-0.57766-3.86613-0.46667.h5\n",
      "Epoch 4/30\n",
      "17/17 [==============================] - 21s 1s/step - loss: 1.1524 - categorical_accuracy: 0.5913 - val_loss: 10.8087 - val_categorical_accuracy: 0.2833\n",
      "\n",
      "Epoch 00004: saving model to model_init_2020-12-2807_57_06.633544/model-00004-1.15239-0.59133-10.80872-0.28333.h5\n",
      "Epoch 5/30\n",
      "11/17 [==================>...........] - ETA: 6s - loss: 1.3162 - categorical_accuracy: 0.5215Batch:  35 Index: 19\n",
      "17/17 [==============================] - 20s 1s/step - loss: 1.2104 - categorical_accuracy: 0.5689 - val_loss: 12.0886 - val_categorical_accuracy: 0.2500\n",
      "\n",
      "Epoch 00005: saving model to model_init_2020-12-2807_57_06.633544/model-00005-1.21823-0.56550-12.08857-0.25000.h5\n",
      "Epoch 6/30\n",
      "17/17 [==============================] - 19s 1s/step - loss: 1.0709 - categorical_accuracy: 0.6021 - val_loss: 5.1999 - val_categorical_accuracy: 0.3500\n",
      "\n",
      "Epoch 00006: saving model to model_init_2020-12-2807_57_06.633544/model-00006-1.07088-0.60208-5.19989-0.35000.h5\n",
      "\n",
      "Epoch 00006: ReduceLROnPlateau reducing learning rate to 0.00020000000949949026.\n",
      "Epoch 7/30\n",
      "17/17 [==============================] - 18s 1s/step - loss: 1.2529 - categorical_accuracy: 0.5536 - val_loss: 1.8157 - val_categorical_accuracy: 0.4833\n",
      "\n",
      "Epoch 00007: saving model to model_init_2020-12-2807_57_06.633544/model-00007-1.25286-0.55363-1.81571-0.48333.h5\n",
      "Epoch 8/30\n",
      "17/17 [==============================] - 19s 1s/step - loss: 1.0114 - categorical_accuracy: 0.6263 - val_loss: 1.1057 - val_categorical_accuracy: 0.6833\n",
      "\n",
      "Epoch 00008: saving model to model_init_2020-12-2807_57_06.633544/model-00008-1.01136-0.62630-1.10573-0.68333.h5\n",
      "Epoch 9/30\n",
      "17/17 [==============================] - 18s 1s/step - loss: 0.9422 - categorical_accuracy: 0.6678 - val_loss: 0.7638 - val_categorical_accuracy: 0.7167\n",
      "\n",
      "Epoch 00009: saving model to model_init_2020-12-2807_57_06.633544/model-00009-0.94216-0.66782-0.76375-0.71667.h5\n",
      "Epoch 10/30\n",
      "17/17 [==============================] - 18s 1s/step - loss: 0.9098 - categorical_accuracy: 0.6436 - val_loss: 0.8725 - val_categorical_accuracy: 0.7667\n",
      "\n",
      "Epoch 00010: saving model to model_init_2020-12-2807_57_06.633544/model-00010-0.90975-0.64360-0.87253-0.76667.h5\n",
      "Epoch 11/30\n",
      "17/17 [==============================] - 19s 1s/step - loss: 0.8551 - categorical_accuracy: 0.6471 - val_loss: 0.8501 - val_categorical_accuracy: 0.6833\n",
      "\n",
      "Epoch 00011: saving model to model_init_2020-12-2807_57_06.633544/model-00011-0.85509-0.64706-0.85006-0.68333.h5\n",
      "Epoch 12/30\n",
      "17/17 [==============================] - 20s 1s/step - loss: 0.8108 - categorical_accuracy: 0.6298 - val_loss: 0.9380 - val_categorical_accuracy: 0.7167\n",
      "\n",
      "Epoch 00012: saving model to model_init_2020-12-2807_57_06.633544/model-00012-0.81081-0.62976-0.93802-0.71667.h5\n",
      "Epoch 13/30\n",
      "17/17 [==============================] - 19s 1s/step - loss: 0.7762 - categorical_accuracy: 0.6990 - val_loss: 0.6939 - val_categorical_accuracy: 0.7000\n",
      "\n",
      "Epoch 00013: saving model to model_init_2020-12-2807_57_06.633544/model-00013-0.77617-0.69896-0.69387-0.70000.h5\n",
      "Epoch 14/30\n",
      "17/17 [==============================] - 19s 1s/step - loss: 0.7483 - categorical_accuracy: 0.7093 - val_loss: 0.8818 - val_categorical_accuracy: 0.7667\n",
      "\n",
      "Epoch 00014: saving model to model_init_2020-12-2807_57_06.633544/model-00014-0.74830-0.70934-0.88180-0.76667.h5\n",
      "Epoch 15/30\n",
      "17/17 [==============================] - 19s 1s/step - loss: 0.7483 - categorical_accuracy: 0.7301 - val_loss: 0.6626 - val_categorical_accuracy: 0.8167\n",
      "\n",
      "Epoch 00015: saving model to model_init_2020-12-2807_57_06.633544/model-00015-0.74833-0.73010-0.66256-0.81667.h5\n",
      "Epoch 16/30\n",
      "17/17 [==============================] - 20s 1s/step - loss: 0.7272 - categorical_accuracy: 0.7301 - val_loss: 0.7516 - val_categorical_accuracy: 0.7167\n",
      "\n",
      "Epoch 00016: saving model to model_init_2020-12-2807_57_06.633544/model-00016-0.72720-0.73010-0.75162-0.71667.h5\n",
      "Epoch 17/30\n",
      "17/17 [==============================] - 19s 1s/step - loss: 0.6277 - categorical_accuracy: 0.7509 - val_loss: 0.6521 - val_categorical_accuracy: 0.7500\n",
      "\n",
      "Epoch 00017: saving model to model_init_2020-12-2807_57_06.633544/model-00017-0.62766-0.75087-0.65212-0.75000.h5\n",
      "Epoch 18/30\n",
      "17/17 [==============================] - 19s 1s/step - loss: 0.5812 - categorical_accuracy: 0.7924 - val_loss: 0.7428 - val_categorical_accuracy: 0.7500\n",
      "\n",
      "Epoch 00018: saving model to model_init_2020-12-2807_57_06.633544/model-00018-0.58121-0.79239-0.74285-0.75000.h5\n",
      "Epoch 19/30\n",
      "17/17 [==============================] - 18s 1s/step - loss: 0.6022 - categorical_accuracy: 0.7751 - val_loss: 0.5760 - val_categorical_accuracy: 0.7667\n",
      "\n",
      "Epoch 00019: saving model to model_init_2020-12-2807_57_06.633544/model-00019-0.60220-0.77509-0.57604-0.76667.h5\n",
      "Epoch 20/30\n",
      "17/17 [==============================] - 19s 1s/step - loss: 0.6026 - categorical_accuracy: 0.7958 - val_loss: 0.6573 - val_categorical_accuracy: 0.7833\n",
      "\n",
      "Epoch 00020: saving model to model_init_2020-12-2807_57_06.633544/model-00020-0.60255-0.79585-0.65728-0.78333.h5\n",
      "Epoch 21/30\n",
      "17/17 [==============================] - 19s 1s/step - loss: 0.5132 - categorical_accuracy: 0.7993 - val_loss: 0.7997 - val_categorical_accuracy: 0.7333\n",
      "\n",
      "Epoch 00021: saving model to model_init_2020-12-2807_57_06.633544/model-00021-0.51316-0.79931-0.79967-0.73333.h5\n",
      "Epoch 22/30\n",
      "17/17 [==============================] - 19s 1s/step - loss: 0.4570 - categorical_accuracy: 0.8408 - val_loss: 0.9643 - val_categorical_accuracy: 0.6500\n",
      "\n",
      "Epoch 00022: saving model to model_init_2020-12-2807_57_06.633544/model-00022-0.45703-0.84083-0.96432-0.65000.h5\n",
      "Epoch 23/30\n",
      "17/17 [==============================] - 19s 1s/step - loss: 0.5496 - categorical_accuracy: 0.7889 - val_loss: 0.7528 - val_categorical_accuracy: 0.7333\n",
      "\n",
      "Epoch 00023: saving model to model_init_2020-12-2807_57_06.633544/model-00023-0.54965-0.78893-0.75276-0.73333.h5\n",
      "\n",
      "Epoch 00023: ReduceLROnPlateau reducing learning rate to 4.0000001899898055e-05.\n",
      "Epoch 24/30\n",
      "17/17 [==============================] - 19s 1s/step - loss: 0.4791 - categorical_accuracy: 0.8270 - val_loss: 0.5903 - val_categorical_accuracy: 0.8167\n",
      "\n",
      "Epoch 00024: saving model to model_init_2020-12-2807_57_06.633544/model-00024-0.47914-0.82699-0.59026-0.81667.h5\n",
      "Epoch 25/30\n",
      "17/17 [==============================] - 19s 1s/step - loss: 0.4853 - categorical_accuracy: 0.7993 - val_loss: 0.6295 - val_categorical_accuracy: 0.7667\n",
      "\n",
      "Epoch 00025: saving model to model_init_2020-12-2807_57_06.633544/model-00025-0.48532-0.79931-0.62953-0.76667.h5\n",
      "Epoch 26/30\n",
      "17/17 [==============================] - 19s 1s/step - loss: 0.4107 - categorical_accuracy: 0.8547 - val_loss: 0.6451 - val_categorical_accuracy: 0.7833\n",
      "\n",
      "Epoch 00026: saving model to model_init_2020-12-2807_57_06.633544/model-00026-0.41067-0.85467-0.64509-0.78333.h5\n",
      "Epoch 27/30\n",
      "17/17 [==============================] - 19s 1s/step - loss: 0.4885 - categorical_accuracy: 0.7993 - val_loss: 0.6760 - val_categorical_accuracy: 0.7500\n",
      "\n",
      "Epoch 00027: saving model to model_init_2020-12-2807_57_06.633544/model-00027-0.48846-0.79931-0.67602-0.75000.h5\n",
      "\n",
      "Epoch 00027: ReduceLROnPlateau reducing learning rate to 8.000000525498762e-06.\n",
      "Epoch 28/30\n",
      "17/17 [==============================] - 19s 1s/step - loss: 0.4292 - categorical_accuracy: 0.8443 - val_loss: 0.6316 - val_categorical_accuracy: 0.8000\n",
      "\n",
      "Epoch 00028: saving model to model_init_2020-12-2807_57_06.633544/model-00028-0.42918-0.84429-0.63155-0.80000.h5\n",
      "Epoch 29/30\n",
      "17/17 [==============================] - 19s 1s/step - loss: 0.5373 - categorical_accuracy: 0.8028 - val_loss: 0.8466 - val_categorical_accuracy: 0.7167\n",
      "\n",
      "Epoch 00029: saving model to model_init_2020-12-2807_57_06.633544/model-00029-0.53731-0.80277-0.84664-0.71667.h5\n",
      "Epoch 30/30\n",
      "17/17 [==============================] - 19s 1s/step - loss: 0.3985 - categorical_accuracy: 0.8616 - val_loss: 0.7977 - val_categorical_accuracy: 0.7167\n",
      "\n",
      "Epoch 00030: saving model to model_init_2020-12-2807_57_06.633544/model-00030-0.39847-0.86159-0.79774-0.71667.h5\n"
     ]
    }
   ],
   "source": [
    "m_6=model_6.fit_generator(train_generator, steps_per_epoch=steps_per_epoch, epochs=num_epochs, verbose=1, \n",
    "                    callbacks=callbacks_list, validation_data=val_generator, \n",
    "                    validation_steps=validation_steps, class_weight=None, workers=1, initial_epoch=0)"
   ]
  },
  {
   "cell_type": "code",
   "execution_count": 18,
   "metadata": {},
   "outputs": [
    {
     "data": {
      "image/png": "[encoded data removed]",
      "text/plain": [
       "<Figure size 1080x288 with 2 Axes>"
      ]
     },
     "metadata": {},
     "output_type": "display_data"
    }
   ],
   "source": [
    "plot(m_6)"
   ]
  }
 ],
 "metadata": {
  "kernelspec": {
   "display_name": "Python 3",
   "language": "python",
   "name": "python3"
  },
  "language_info": {
   "codemirror_mode": {
    "name": "ipython",
    "version": 3
   },
   "file_extension": ".py",
   "mimetype": "text/x-python",
   "name": "python",
   "nbconvert_exporter": "python",
   "pygments_lexer": "ipython3",
   "version": "3.6.8"
  }
 },
 "nbformat": 4,
 "nbformat_minor": 2
}
